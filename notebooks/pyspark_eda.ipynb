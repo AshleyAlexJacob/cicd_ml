{
 "cells": [
  {
   "cell_type": "code",
   "execution_count": 1,
   "metadata": {},
   "outputs": [],
   "source": [
    "import os\n",
    "\n",
    "os.chdir(\"../\")"
   ]
  },
  {
   "cell_type": "code",
   "execution_count": 2,
   "metadata": {},
   "outputs": [],
   "source": [
    "import findspark\n",
    "findspark.init()"
   ]
  },
  {
   "cell_type": "code",
   "execution_count": 3,
   "metadata": {},
   "outputs": [],
   "source": [
    "import pyspark # only run after findspark.init()\n",
    "from pyspark.sql import SparkSession\n",
    "from pyspark.sql import SQLContext"
   ]
  },
  {
   "cell_type": "code",
   "execution_count": 4,
   "metadata": {},
   "outputs": [
    {
     "name": "stderr",
     "output_type": "stream",
     "text": [
      "24/08/17 23:19:19 WARN Utils: Your hostname, Ashleys-MacBook-Pro.local resolves to a loopback address: 127.0.0.1; using 192.168.18.12 instead (on interface en0)\n",
      "24/08/17 23:19:19 WARN Utils: Set SPARK_LOCAL_IP if you need to bind to another address\n",
      "Setting default log level to \"WARN\".\n",
      "To adjust logging level use sc.setLogLevel(newLevel). For SparkR, use setLogLevel(newLevel).\n",
      "24/08/17 23:19:20 WARN NativeCodeLoader: Unable to load native-hadoop library for your platform... using builtin-java classes where applicable\n"
     ]
    }
   ],
   "source": [
    "# creating spark session\n",
    "\n",
    "spark = SparkSession.builder.getOrCreate()"
   ]
  },
  {
   "cell_type": "code",
   "execution_count": 5,
   "metadata": {},
   "outputs": [
    {
     "name": "stdout",
     "output_type": "stream",
     "text": [
      "+---+-------+----+-----+----+-----+-----+----+------+---+---+-------+------+-----+----+\n",
      "|_c0|   crim|  zn|indus|chas|  nox|   rm| age|   dis|rad|tax|ptratio| black|lstat|medv|\n",
      "+---+-------+----+-----+----+-----+-----+----+------+---+---+-------+------+-----+----+\n",
      "|  1|0.00632|18.0| 2.31|   0|0.538|6.575|65.2|  4.09|  1|296|   15.3| 396.9| 4.98|24.0|\n",
      "|  2|0.02731| 0.0| 7.07|   0|0.469|6.421|78.9|4.9671|  2|242|   17.8| 396.9| 9.14|21.6|\n",
      "|  3|0.02729| 0.0| 7.07|   0|0.469|7.185|61.1|4.9671|  2|242|   17.8|392.83| 4.03|34.7|\n",
      "|  4|0.03237| 0.0| 2.18|   0|0.458|6.998|45.8|6.0622|  3|222|   18.7|394.63| 2.94|33.4|\n",
      "|  5|0.06905| 0.0| 2.18|   0|0.458|7.147|54.2|6.0622|  3|222|   18.7| 396.9| 5.33|36.2|\n",
      "+---+-------+----+-----+----+-----+-----+----+------+---+---+-------+------+-----+----+\n",
      "only showing top 5 rows\n",
      "\n"
     ]
    },
    {
     "name": "stderr",
     "output_type": "stream",
     "text": [
      "24/08/17 23:22:34 WARN CSVHeaderChecker: CSV header does not conform to the schema.\n",
      " Header: , crim, zn, indus, chas, nox, rm, age, dis, rad, tax, ptratio, black, lstat, medv\n",
      " Schema: _c0, crim, zn, indus, chas, nox, rm, age, dis, rad, tax, ptratio, black, lstat, medv\n",
      "Expected: _c0 but found: \n",
      "CSV file: file:///Users/ashleyalexjacob/Data_Science/training/cicd_ml/data/Boston.csv\n"
     ]
    }
   ],
   "source": [
    "# importing dataset\n",
    "\n",
    "df = spark.read.csv('data/Boston.csv', inferSchema=True, header= True)\n",
    "\n",
    "df.show(5)"
   ]
  },
  {
   "cell_type": "code",
   "execution_count": 6,
   "metadata": {},
   "outputs": [
    {
     "name": "stdout",
     "output_type": "stream",
     "text": [
      "root\n",
      " |-- _c0: integer (nullable = true)\n",
      " |-- crim: double (nullable = true)\n",
      " |-- zn: double (nullable = true)\n",
      " |-- indus: double (nullable = true)\n",
      " |-- chas: integer (nullable = true)\n",
      " |-- nox: double (nullable = true)\n",
      " |-- rm: double (nullable = true)\n",
      " |-- age: double (nullable = true)\n",
      " |-- dis: double (nullable = true)\n",
      " |-- rad: integer (nullable = true)\n",
      " |-- tax: integer (nullable = true)\n",
      " |-- ptratio: double (nullable = true)\n",
      " |-- black: double (nullable = true)\n",
      " |-- lstat: double (nullable = true)\n",
      " |-- medv: double (nullable = true)\n",
      "\n"
     ]
    }
   ],
   "source": [
    "df.printSchema()"
   ]
  },
  {
   "cell_type": "code",
   "execution_count": 8,
   "metadata": {},
   "outputs": [
    {
     "name": "stderr",
     "output_type": "stream",
     "text": [
      "24/08/17 23:23:18 WARN SparkStringUtils: Truncated the string representation of a plan since it was too large. This behavior can be adjusted by setting 'spark.sql.debug.maxToStringFields'.\n",
      "24/08/17 23:23:18 WARN CSVHeaderChecker: CSV header does not conform to the schema.\n",
      " Header: , crim, zn, indus, chas, nox, rm, age, dis, rad, tax, ptratio, black, lstat, medv\n",
      " Schema: _c0, crim, zn, indus, chas, nox, rm, age, dis, rad, tax, ptratio, black, lstat, medv\n",
      "Expected: _c0 but found: \n",
      "CSV file: file:///Users/ashleyalexjacob/Data_Science/training/cicd_ml/data/Boston.csv\n",
      "[Stage 5:>                                                          (0 + 1) / 1]\r"
     ]
    },
    {
     "name": "stdout",
     "output_type": "stream",
     "text": [
      "+-------+-----------------+------------------+------------------+------------------+------------------+-------------------+------------------+------------------+-----------------+-----------------+------------------+------------------+------------------+------------------+------------------+\n",
      "|summary|              _c0|              crim|                zn|             indus|              chas|                nox|                rm|               age|              dis|              rad|               tax|           ptratio|             black|             lstat|              medv|\n",
      "+-------+-----------------+------------------+------------------+------------------+------------------+-------------------+------------------+------------------+-----------------+-----------------+------------------+------------------+------------------+------------------+------------------+\n",
      "|  count|              506|               506|               506|               506|               506|                506|               506|               506|              506|              506|               506|               506|               506|               506|               506|\n",
      "|   mean|            253.5|3.6135235573122535|11.363636363636363|11.136778656126504|0.0691699604743083| 0.5546950592885372| 6.284634387351787| 68.57490118577078|3.795042687747034|9.549407114624506| 408.2371541501976|18.455533596837967|356.67403162055257|12.653063241106723|22.532806324110698|\n",
      "| stddev|146.2138844296259| 8.601545105332491| 23.32245299451514| 6.860352940897589|0.2539940413404101|0.11587767566755584|0.7026171434153232|28.148861406903595| 2.10571012662761|8.707259384239366|168.53711605495903|2.1649455237144455| 91.29486438415782| 7.141061511348571| 9.197104087379815|\n",
      "|    min|                1|           0.00632|               0.0|              0.46|                 0|              0.385|             3.561|               2.9|           1.1296|                1|               187|              12.6|              0.32|              1.73|               5.0|\n",
      "|    max|              506|           88.9762|             100.0|             27.74|                 1|              0.871|              8.78|             100.0|          12.1265|               24|               711|              22.0|             396.9|             37.97|              50.0|\n",
      "+-------+-----------------+------------------+------------------+------------------+------------------+-------------------+------------------+------------------+-----------------+-----------------+------------------+------------------+------------------+------------------+------------------+\n",
      "\n"
     ]
    },
    {
     "name": "stderr",
     "output_type": "stream",
     "text": [
      "                                                                                \r"
     ]
    }
   ],
   "source": [
    "df.describe().show()"
   ]
  },
  {
   "cell_type": "code",
   "execution_count": 9,
   "metadata": {},
   "outputs": [
    {
     "name": "stdout",
     "output_type": "stream",
     "text": [
      "+-------+------------------+\n",
      "|summary|               AGE|\n",
      "+-------+------------------+\n",
      "|  count|               506|\n",
      "|   mean| 68.57490118577078|\n",
      "| stddev|28.148861406903595|\n",
      "|    min|               2.9|\n",
      "|    max|             100.0|\n",
      "+-------+------------------+\n",
      "\n"
     ]
    }
   ],
   "source": [
    "df.describe('AGE').show()"
   ]
  },
  {
   "cell_type": "code",
   "execution_count": 11,
   "metadata": {},
   "outputs": [
    {
     "name": "stdout",
     "output_type": "stream",
     "text": [
      "+---+-------+---+-----+----+-----+-----+----+------+---+---+-------+------+-----+----+\n",
      "|_c0|   crim| zn|indus|chas|  nox|   rm| age|   dis|rad|tax|ptratio| black|lstat|medv|\n",
      "+---+-------+---+-----+----+-----+-----+----+------+---+---+-------+------+-----+----+\n",
      "|  2|0.02731|0.0| 7.07|   0|0.469|6.421|78.9|4.9671|  2|242|   17.8| 396.9| 9.14|21.6|\n",
      "|  3|0.02729|0.0| 7.07|   0|0.469|7.185|61.1|4.9671|  2|242|   17.8|392.83| 4.03|34.7|\n",
      "+---+-------+---+-----+----+-----+-----+----+------+---+---+-------+------+-----+----+\n",
      "\n"
     ]
    },
    {
     "name": "stderr",
     "output_type": "stream",
     "text": [
      "24/08/17 23:24:37 WARN CSVHeaderChecker: CSV header does not conform to the schema.\n",
      " Header: , crim, zn, indus, chas, nox, rm, age, dis, rad, tax, ptratio, black, lstat, medv\n",
      " Schema: _c0, crim, zn, indus, chas, nox, rm, age, dis, rad, tax, ptratio, black, lstat, medv\n",
      "Expected: _c0 but found: \n",
      "CSV file: file:///Users/ashleyalexjacob/Data_Science/training/cicd_ml/data/Boston.csv\n"
     ]
    }
   ],
   "source": [
    "df.filter(df.indus==7.07).show()"
   ]
  },
  {
   "cell_type": "code",
   "execution_count": 12,
   "metadata": {},
   "outputs": [
    {
     "name": "stdout",
     "output_type": "stream",
     "text": [
      "+---+----+---+-----+----+---+---+---+---+---+---+-------+-----+-----+----+\n",
      "|_c0|crim| zn|indus|chas|nox| rm|age|dis|rad|tax|ptratio|black|lstat|medv|\n",
      "+---+----+---+-----+----+---+---+---+---+---+---+-------+-----+-----+----+\n",
      "+---+----+---+-----+----+---+---+---+---+---+---+-------+-----+-----+----+\n",
      "\n"
     ]
    }
   ],
   "source": [
    "df.filter((df.indus==7.07) & (df.medv=='High')).show()"
   ]
  },
  {
   "cell_type": "code",
   "execution_count": 13,
   "metadata": {},
   "outputs": [
    {
     "name": "stderr",
     "output_type": "stream",
     "text": [
      "[Stage 10:>                                                         (0 + 1) / 1]\r"
     ]
    },
    {
     "name": "stdout",
     "output_type": "stream",
     "text": [
      "+----+-----+\n",
      "|medv|count|\n",
      "+----+-----+\n",
      "|13.4|    4|\n",
      "|26.7|    1|\n",
      "|14.9|    3|\n",
      "|15.4|    2|\n",
      "|15.7|    1|\n",
      "|25.1|    1|\n",
      "|10.2|    3|\n",
      "|24.7|    3|\n",
      "|18.3|    2|\n",
      "|44.8|    1|\n",
      "|26.4|    2|\n",
      "|17.9|    1|\n",
      "|16.6|    2|\n",
      "|23.8|    4|\n",
      "| 7.0|    2|\n",
      "|11.5|    1|\n",
      "|36.2|    2|\n",
      "|31.7|    1|\n",
      "| 9.5|    1|\n",
      "|31.1|    1|\n",
      "+----+-----+\n",
      "only showing top 20 rows\n",
      "\n"
     ]
    },
    {
     "name": "stderr",
     "output_type": "stream",
     "text": [
      "                                                                                \r"
     ]
    }
   ],
   "source": [
    "df.groupBy('medv').count().show()"
   ]
  },
  {
   "cell_type": "code",
   "execution_count": 14,
   "metadata": {},
   "outputs": [
    {
     "name": "stdout",
     "output_type": "stream",
     "text": [
      "+---+-------+---+-----+----+-----+-----+-----+------+---+---+-------+------+-----+----+\n",
      "|_c0|   crim| zn|indus|chas|  nox|   rm|  age|   dis|rad|tax|ptratio| black|lstat|medv|\n",
      "+---+-------+---+-----+----+-----+-----+-----+------+---+---+-------+------+-----+----+\n",
      "|489|0.15086|0.0|27.74|   0|0.609|5.454| 92.7|1.8209|  4|711|   20.1|395.09|18.06|15.2|\n",
      "|490|0.18337|0.0|27.74|   0|0.609|5.414| 98.3|1.7554|  4|711|   20.1|344.05|23.97| 7.0|\n",
      "|491|0.20746|0.0|27.74|   0|0.609|5.093| 98.0|1.8226|  4|711|   20.1|318.43|29.68| 8.1|\n",
      "|492|0.10574|0.0|27.74|   0|0.609|5.983| 98.8|1.8681|  4|711|   20.1|390.11|18.07|13.6|\n",
      "|493|0.11132|0.0|27.74|   0|0.609|5.983| 83.5|2.1099|  4|711|   20.1| 396.9|13.35|20.1|\n",
      "|357|8.98296|0.0| 18.1|   1| 0.77|6.212| 97.4|2.1222| 24|666|   20.2|377.73| 17.6|17.8|\n",
      "|377| 15.288|0.0| 18.1|   0|0.671|6.649| 93.3|1.3449| 24|666|   20.2|363.02|23.24|13.9|\n",
      "|358| 3.8497|0.0| 18.1|   1| 0.77|6.395| 91.0|2.5052| 24|666|   20.2|391.34|13.27|21.7|\n",
      "|367|3.69695|0.0| 18.1|   0|0.718|4.963| 91.4|1.7523| 24|666|   20.2|316.03| 14.0|21.9|\n",
      "|368|13.5222|0.0| 18.1|   0|0.631|3.863|100.0|1.5106| 24|666|   20.2|131.42|13.33|23.1|\n",
      "|360|4.26131|0.0| 18.1|   0| 0.77|6.112| 81.3|2.5091| 24|666|   20.2|390.74|12.67|22.6|\n",
      "|361|4.54192|0.0| 18.1|   0| 0.77|6.398| 88.0|2.5182| 24|666|   20.2|374.56| 7.79|25.0|\n",
      "|362|3.83684|0.0| 18.1|   0| 0.77|6.251| 91.1|2.2955| 24|666|   20.2|350.65|14.19|19.9|\n",
      "|363|3.67822|0.0| 18.1|   0| 0.77|5.362| 96.2|2.1036| 24|666|   20.2|380.79|10.19|20.8|\n",
      "|364|4.22239|0.0| 18.1|   1| 0.77|5.803| 89.0|1.9047| 24|666|   20.2|353.04|14.64|16.8|\n",
      "|365|3.47428|0.0| 18.1|   1|0.718| 8.78| 82.9|1.9047| 24|666|   20.2|354.55| 5.29|21.9|\n",
      "|366|4.55587|0.0| 18.1|   0|0.718|3.561| 87.9|1.6132| 24|666|   20.2| 354.7| 7.12|27.5|\n",
      "|376|19.6091|0.0| 18.1|   0|0.671|7.313| 97.9|1.3163| 24|666|   20.2| 396.9|13.44|15.0|\n",
      "|359|5.20177|0.0| 18.1|   1| 0.77|6.127| 83.4|2.7227| 24|666|   20.2|395.43|11.48|22.7|\n",
      "|369|4.89822|0.0| 18.1|   0|0.631| 4.97|100.0|1.3325| 24|666|   20.2|375.52| 3.26|50.0|\n",
      "+---+-------+---+-----+----+-----+-----+-----+------+---+---+-------+------+-----+----+\n",
      "only showing top 20 rows\n",
      "\n"
     ]
    },
    {
     "name": "stderr",
     "output_type": "stream",
     "text": [
      "24/08/17 23:42:22 WARN CSVHeaderChecker: CSV header does not conform to the schema.\n",
      " Header: , crim, zn, indus, chas, nox, rm, age, dis, rad, tax, ptratio, black, lstat, medv\n",
      " Schema: _c0, crim, zn, indus, chas, nox, rm, age, dis, rad, tax, ptratio, black, lstat, medv\n",
      "Expected: _c0 but found: \n",
      "CSV file: file:///Users/ashleyalexjacob/Data_Science/training/cicd_ml/data/Boston.csv\n"
     ]
    }
   ],
   "source": [
    "df.sort((df.tax).desc()).show()"
   ]
  },
  {
   "cell_type": "code",
   "execution_count": 17,
   "metadata": {},
   "outputs": [
    {
     "data": {
      "text/plain": [
       "229"
      ]
     },
     "execution_count": 17,
     "metadata": {},
     "output_type": "execute_result"
    }
   ],
   "source": [
    "df.select('medv').distinct().count()"
   ]
  },
  {
   "cell_type": "code",
   "execution_count": 18,
   "metadata": {},
   "outputs": [
    {
     "name": "stdout",
     "output_type": "stream",
     "text": [
      "+----+--------+\n",
      "| age|half_age|\n",
      "+----+--------+\n",
      "|65.2|    32.6|\n",
      "|78.9|   39.45|\n",
      "|61.1|   30.55|\n",
      "|45.8|    22.9|\n",
      "|54.2|    27.1|\n",
      "+----+--------+\n",
      "only showing top 5 rows\n",
      "\n"
     ]
    }
   ],
   "source": [
    "df.withColumn('half_age', df.age/2.0).select('age',\n",
    "                                             'half_age').show(5)"
   ]
  },
  {
   "cell_type": "markdown",
   "metadata": {},
   "source": [
    "### SQL"
   ]
  },
  {
   "cell_type": "code",
   "execution_count": 19,
   "metadata": {},
   "outputs": [
    {
     "name": "stderr",
     "output_type": "stream",
     "text": [
      "/usr/local/opt/apache-spark/libexec/python/pyspark/sql/dataframe.py:329: FutureWarning: Deprecated in 2.0, use createOrReplaceTempView instead.\n",
      "  warnings.warn(\"Deprecated in 2.0, use createOrReplaceTempView instead.\", FutureWarning)\n",
      "/usr/local/opt/apache-spark/libexec/python/pyspark/sql/context.py:113: FutureWarning: Deprecated in 3.0.0. Use SparkSession.builder.getOrCreate() instead.\n",
      "  warnings.warn(\n"
     ]
    }
   ],
   "source": [
    "df.registerTempTable('BostonTable')\n",
    "sql_context = SQLContext(spark)"
   ]
  },
  {
   "cell_type": "code",
   "execution_count": 20,
   "metadata": {},
   "outputs": [
    {
     "name": "stdout",
     "output_type": "stream",
     "text": [
      "+---+-------+----+-----+----+-----+-----+----+------+---+---+-------+------+-----+----+\n",
      "|_c0|   crim|  zn|indus|chas|  nox|   rm| age|   dis|rad|tax|ptratio| black|lstat|medv|\n",
      "+---+-------+----+-----+----+-----+-----+----+------+---+---+-------+------+-----+----+\n",
      "|  1|0.00632|18.0| 2.31|   0|0.538|6.575|65.2|  4.09|  1|296|   15.3| 396.9| 4.98|24.0|\n",
      "|  2|0.02731| 0.0| 7.07|   0|0.469|6.421|78.9|4.9671|  2|242|   17.8| 396.9| 9.14|21.6|\n",
      "|  3|0.02729| 0.0| 7.07|   0|0.469|7.185|61.1|4.9671|  2|242|   17.8|392.83| 4.03|34.7|\n",
      "+---+-------+----+-----+----+-----+-----+----+------+---+---+-------+------+-----+----+\n",
      "only showing top 3 rows\n",
      "\n"
     ]
    },
    {
     "name": "stderr",
     "output_type": "stream",
     "text": [
      "24/08/17 23:52:57 WARN CSVHeaderChecker: CSV header does not conform to the schema.\n",
      " Header: , crim, zn, indus, chas, nox, rm, age, dis, rad, tax, ptratio, black, lstat, medv\n",
      " Schema: _c0, crim, zn, indus, chas, nox, rm, age, dis, rad, tax, ptratio, black, lstat, medv\n",
      "Expected: _c0 but found: \n",
      "CSV file: file:///Users/ashleyalexjacob/Data_Science/training/cicd_ml/data/Boston.csv\n"
     ]
    }
   ],
   "source": [
    "sql_context.sql('select * from BostonTable').show(3)"
   ]
  },
  {
   "cell_type": "code",
   "execution_count": 21,
   "metadata": {},
   "outputs": [
    {
     "name": "stdout",
     "output_type": "stream",
     "text": [
      "+---+-------+----+-----+----+\n",
      "|_c0|   CRIM|  ZN|INDUS|CHAS|\n",
      "+---+-------+----+-----+----+\n",
      "|  1|0.00632|18.0| 2.31|   0|\n",
      "|  2|0.02731| 0.0| 7.07|   0|\n",
      "|  3|0.02729| 0.0| 7.07|   0|\n",
      "+---+-------+----+-----+----+\n",
      "only showing top 3 rows\n",
      "\n"
     ]
    },
    {
     "name": "stderr",
     "output_type": "stream",
     "text": [
      "24/08/17 23:53:12 WARN CSVHeaderChecker: CSV header does not conform to the schema.\n",
      " Header: , crim, zn, indus, chas\n",
      " Schema: _c0, crim, zn, indus, chas\n",
      "Expected: _c0 but found: \n",
      "CSV file: file:///Users/ashleyalexjacob/Data_Science/training/cicd_ml/data/Boston.csv\n"
     ]
    }
   ],
   "source": [
    "sql_context.sql('select _c0, CRIM, ZN, INDUS, CHAS from BostonTable').show(3)"
   ]
  },
  {
   "cell_type": "code",
   "execution_count": 22,
   "metadata": {},
   "outputs": [
    {
     "name": "stdout",
     "output_type": "stream",
     "text": [
      "+--------+\n",
      "|max(age)|\n",
      "+--------+\n",
      "|   100.0|\n",
      "+--------+\n",
      "\n"
     ]
    }
   ],
   "source": [
    "sql_context.sql('select max(age) from BostonTable').show()"
   ]
  },
  {
   "cell_type": "code",
   "execution_count": 25,
   "metadata": {},
   "outputs": [
    {
     "data": {
      "text/plain": [
       "['_c0',\n",
       " 'crim',\n",
       " 'zn',\n",
       " 'indus',\n",
       " 'chas',\n",
       " 'nox',\n",
       " 'rm',\n",
       " 'age',\n",
       " 'dis',\n",
       " 'rad',\n",
       " 'tax',\n",
       " 'ptratio',\n",
       " 'black',\n",
       " 'lstat',\n",
       " 'medv']"
      ]
     },
     "execution_count": 25,
     "metadata": {},
     "output_type": "execute_result"
    }
   ],
   "source": [
    "df.columns"
   ]
  },
  {
   "cell_type": "code",
   "execution_count": 26,
   "metadata": {},
   "outputs": [
    {
     "name": "stdout",
     "output_type": "stream",
     "text": [
      "+----+---+---+\n",
      "|crim|nox| zn|\n",
      "+----+---+---+\n",
      "+----+---+---+\n",
      "\n"
     ]
    }
   ],
   "source": [
    "sql_context.sql('select crim, nox, zn from BostonTable where zn = 396.9').show(3)"
   ]
  },
  {
   "cell_type": "code",
   "execution_count": 27,
   "metadata": {},
   "outputs": [
    {
     "name": "stdout",
     "output_type": "stream",
     "text": [
      "+---+-------+---+-----+----+-----+-----+----+------+---+---+-------+------+-----+----+\n",
      "|_c0|   crim| zn|indus|chas|  nox|   rm| age|   dis|rad|tax|ptratio| black|lstat|medv|\n",
      "+---+-------+---+-----+----+-----+-----+----+------+---+---+-------+------+-----+----+\n",
      "|  4|0.03237|0.0| 2.18|   0|0.458|6.998|45.8|6.0622|  3|222|   18.7|394.63| 2.94|33.4|\n",
      "| 38|0.08014|0.0| 5.96|   0|0.499| 5.85|41.5|3.9342|  5|279|   19.2| 396.9| 8.77|21.0|\n",
      "| 45|0.12269|0.0| 6.91|   0|0.448|6.069|40.0|5.7209|  3|233|   17.9|389.39| 9.55|21.2|\n",
      "+---+-------+---+-----+----+-----+-----+----+------+---+---+-------+------+-----+----+\n",
      "only showing top 3 rows\n",
      "\n"
     ]
    },
    {
     "name": "stderr",
     "output_type": "stream",
     "text": [
      "24/08/17 23:57:57 WARN CSVHeaderChecker: CSV header does not conform to the schema.\n",
      " Header: , crim, zn, indus, chas, nox, rm, age, dis, rad, tax, ptratio, black, lstat, medv\n",
      " Schema: _c0, crim, zn, indus, chas, nox, rm, age, dis, rad, tax, ptratio, black, lstat, medv\n",
      "Expected: _c0 but found: \n",
      "CSV file: file:///Users/ashleyalexjacob/Data_Science/training/cicd_ml/data/Boston.csv\n"
     ]
    }
   ],
   "source": [
    "sql_context.sql('select * from BostonTable where age between 40 and 50 and tax not in (311, 307)').show(3)"
   ]
  },
  {
   "cell_type": "code",
   "execution_count": null,
   "metadata": {},
   "outputs": [],
   "source": []
  }
 ],
 "metadata": {
  "kernelspec": {
   "display_name": ".venv",
   "language": "python",
   "name": "python3"
  },
  "language_info": {
   "codemirror_mode": {
    "name": "ipython",
    "version": 3
   },
   "file_extension": ".py",
   "mimetype": "text/x-python",
   "name": "python",
   "nbconvert_exporter": "python",
   "pygments_lexer": "ipython3",
   "version": "3.10.9"
  }
 },
 "nbformat": 4,
 "nbformat_minor": 2
}
